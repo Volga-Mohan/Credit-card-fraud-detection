{
 "cells": [
  {
   "cell_type": "code",
   "execution_count": 2,
   "metadata": {},
   "outputs": [],
   "source": [
    "from pycaret.classification import load_model, predict_model\n",
    "import streamlit as st\n",
    "import pandas as pd\n",
    "import numpy as np\n",
    "import pickle\n",
    "#model = load_model('catboost_final')"
   ]
  },
  {
   "cell_type": "code",
   "execution_count": 9,
   "metadata": {},
   "outputs": [],
   "source": [
    "def user_input_features():\n",
    "    Time = st.sidebar.slider('Time', 0, 10000, 25000)\n",
    "    V1 = st.sidebar.slider('V1', -27, 0, 1)\n",
    "    V2 = st.sidebar.slider('V2', -34, 0, 9)\n",
    "    V3 = st.sidebar.slider('V3', -16, 0, 5)\n",
    "    V4 = st.sidebar.slider('V4', -5, 0, 11)\n",
    "    V5 = st.sidebar.slider('V5', -33, 0, 12)\n",
    "    V6 = st.sidebar.slider('V6', -33, 0, 12)\n",
    "    V7 = st.sidebar.slider('V7', -33, 0, 12)\n",
    "    V8 = st.sidebar.slider('V8', -33, 0, 12)\n",
    "    V9 = st.sidebar.slider('V9', -33, 0, 12)\n",
    "    V10 = st.sidebar.slider('V10', -33, 0, 12)\n",
    "    V11= st.sidebar.slider('V11', -33, 0, 12)\n",
    "    V12= st.sidebar.slider('V12', -33, 0, 12)\n",
    "    V13= st.sidebar.slider('V13',-33, 0, 12)\n",
    "    V14= st.sidebar.slider('V14', -33, 0, 12)\n",
    "    V15= st.sidebar.slider('V15', -33, 0, 12)\n",
    "    V16= st.sidebar.slider('V16', -33, 0, 12)\n",
    "    V17 = st.sidebar.slider('V17', -33, 0, 12)\n",
    "    V18= st.sidebar.slider('V18', -33, 0, 12)\n",
    "    V19= st.sidebar.slider('V19',-33, 0, 12)\n",
    "    V20= st.sidebar.slider('V20', -33, 0, 12)\n",
    "    V21= st.sidebar.slider('V21',-33, 0, 12)\n",
    "    V22= st.sidebar.slider('V22',-33, 0, 12)\n",
    "    V23= st.sidebar.slider('V23', -33, 0, 12)\n",
    "    V24= st.sidebar.slider('V24', -33, 0, 12)\n",
    "    V25= st.sidebar.slider('V25', -33, 0, 12)\n",
    "    V26= st.sidebar.slider('V26', -33, 0, 12)\n",
    "    V27= st.sidebar.slider('V27', -33, 0, 12)\n",
    "    V28= st.sidebar.slider('V28', -33, 0, 12)\n",
    "    Amount= st.sidebar.slider('Amount', 0, 3000, 7000)\n",
    "    \n",
    "    data = {'Time':Time,\n",
    "           'V1': V1, \n",
    "            'V2': V2, \n",
    "           'V3': V3,\n",
    "           'V4': V4,\n",
    "           'V5': V5,\n",
    "           'V6': V6,\n",
    "           'V7': V7,\n",
    "           'V8': V8,\n",
    "           'V9': V9,\n",
    "           'V10': V10,\n",
    "           'V11': V11,\n",
    "           'V12': V12,\n",
    "           'V13': V13,\n",
    "           'V14': V14,\n",
    "           'V15': V15,\n",
    "           'V16': V16,\n",
    "           'V17': V17,\n",
    "           'V18': V18,\n",
    "           'V19': V19,\n",
    "           'V20': V20,\n",
    "           'V21': V21,\n",
    "           'V22': V22,\n",
    "           'V23': V23,\n",
    "           'V24': V24,\n",
    "           'V25': V25,\n",
    "           'V26': V26,\n",
    "           'V27': V27,\n",
    "           'V28': V28,\n",
    "           'Amount': Amount\n",
    "           }\n",
    " \n",
    "    features= pd.DataFrame(data, index=[0])\n",
    "    return features"
   ]
  },
  {
   "cell_type": "code",
   "execution_count": 11,
   "metadata": {},
   "outputs": [
    {
     "name": "stdout",
     "output_type": "stream",
     "text": [
      "Transformation Pipeline and Model Successfully Loaded\n"
     ]
    }
   ],
   "source": [
    "if __name__ == '__main__':\n",
    " \n",
    "    st.write(\"\"\"\n",
    "    # Credit Card Fraud Detection\n",
    "    \"\"\")\n",
    " \n",
    "    st.sidebar.header('User Input Parameters')\n",
    "    df =  user_input_features()\n",
    "    st.subheader('User Input Parameters')\n",
    "    st.write(df)\n",
    " \n",
    "    #filename = 'D:/IPSR/PYCARAT/catboost_final.pkl'\n",
    "    model = load_model('catboost_final')\n",
    "    pred = model.predict(df)\n",
    "    st.subheader('1 denotes frauduluent transaction, 0 denotes non-fraudulent transaction')\n",
    "    st.write(pred)"
   ]
  },
  {
   "cell_type": "code",
   "execution_count": null,
   "metadata": {},
   "outputs": [],
   "source": [
    "if pred=='1':\n",
    "\n",
    "        else:\n",
    "           st.success(classify(svm.predict(inputs)))"
   ]
  },
  {
   "cell_type": "code",
   "execution_count": null,
   "metadata": {},
   "outputs": [],
   "source": []
  }
 ],
 "metadata": {
  "kernelspec": {
   "display_name": "Python 3",
   "language": "python",
   "name": "python3"
  },
  "language_info": {
   "codemirror_mode": {
    "name": "ipython",
    "version": 3
   },
   "file_extension": ".py",
   "mimetype": "text/x-python",
   "name": "python",
   "nbconvert_exporter": "python",
   "pygments_lexer": "ipython3",
   "version": "3.7.9"
  }
 },
 "nbformat": 4,
 "nbformat_minor": 4
}
